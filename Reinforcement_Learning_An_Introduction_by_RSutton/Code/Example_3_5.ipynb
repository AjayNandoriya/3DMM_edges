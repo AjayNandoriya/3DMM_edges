{
  "nbformat": 4,
  "nbformat_minor": 0,
  "metadata": {
    "colab": {
      "name": "Example_3_5",
      "provenance": [],
      "authorship_tag": "ABX9TyNP+wFvshRWrvx5JRQndqfh",
      "include_colab_link": true
    },
    "kernelspec": {
      "name": "python3",
      "display_name": "Python 3"
    }
  },
  "cells": [
    {
      "cell_type": "markdown",
      "metadata": {
        "id": "view-in-github",
        "colab_type": "text"
      },
      "source": [
        "<a href=\"https://colab.research.google.com/github/AjayNandoriya/3DMM_edges/blob/master/Reinforcement_Learning_An_Introduction_by_RSutton/Code/Example_3_5.ipynb\" target=\"_parent\"><img src=\"https://colab.research.google.com/assets/colab-badge.svg\" alt=\"Open In Colab\"/></a>"
      ]
    },
    {
      "cell_type": "code",
      "metadata": {
        "id": "BRXd5AFA1uoB",
        "colab_type": "code",
        "colab": {}
      },
      "source": [
        "import numpy as np\n",
        "\n",
        "S = np.arange(25).reshape((5,5))\n",
        "A = dict({'north':0, 'south':1, 'east':2, 'west':3})\n",
        "R = np.zeros((4, 5,5))\n",
        "R[ A['north'], :,:] = np.array([[-1,10,-1,5,-1],\n",
        "                               [0,0,0,0,0],\n",
        "                               [0,0,0,0,0],\n",
        "                               [0,0,0,0,0],\n",
        "                               [0,0,0,0,0]])\n",
        "R[A['south'],:,:] = np.array([[0,10,0,5,0],\n",
        "                               [0,0,0,0,0],\n",
        "                               [0,0,0,0,0],\n",
        "                               [0,0,0,0,0],\n",
        "                               [-1,-1,-1,-1,-1]])\n",
        "R[A['east'],:,:] = np.array([[0,10,0,5,-1],\n",
        "                               [0,0,0,0,-1],\n",
        "                               [0,0,0,0,-1],\n",
        "                               [0,0,0,0,-1],\n",
        "                               [0,0,0,0,-1]])\n",
        "R[A['west'], :,:] = np.array([ [-1,10,0,5,0],\n",
        "                               [-1,0,0,0,0],\n",
        "                               [-1,0,0,0,0],\n",
        "                               [-1,0,0,0,0],\n",
        "                               [-1,0,0,0,0]])\n",
        "\n",
        "S_new = np.zeros((4, 5, 5))\n",
        "\n",
        "S_new[A['north'], :,:] = S-5\n",
        "S_new[A['north'],0,:] = S[0,:]\n",
        "S_new[A['north'],0,1] = 21\n",
        "S_new[A['north'],0,3] = 23\n",
        "\n",
        "S_new[A['south'],:,:] = S+5\n",
        "S_new[A['south'],4,:] = S[4,:]\n",
        "S_new[A['south'],0,1] = 21\n",
        "S_new[A['south'],0,3] = 23\n",
        "\n",
        "S_new[A['east'],:,:] = S+1\n",
        "S_new[A['east'],:] = S[:,4]\n",
        "S_new[A['east'],0,1] = 21\n",
        "S_new[A['east'],0,3] = 23\n",
        "\n",
        "S_new[A['west'],:,:] = S-1\n",
        "S_new[A['west']:,0] = S[:, 0]\n",
        "S_new[A['west'],0,1] = 21\n",
        "S_new[A['west'],0,3] = 23\n",
        "\n",
        "gamma = 0.9"
      ],
      "execution_count": 0,
      "outputs": []
    },
    {
      "cell_type": "code",
      "metadata": {
        "id": "O8hRBxFdEZG9",
        "colab_type": "code",
        "colab": {
          "base_uri": "https://localhost:8080/",
          "height": 100
        },
        "outputId": "046a3728-0f52-4723-b4ff-79921dbec44d"
      },
      "source": [
        "print(S)"
      ],
      "execution_count": 12,
      "outputs": [
        {
          "output_type": "stream",
          "text": [
            "[[ 0  1  2  3  4]\n",
            " [ 5  6  7  8  9]\n",
            " [10 11 12 13 14]\n",
            " [15 16 17 18 19]\n",
            " [20 21 22 23 24]]\n"
          ],
          "name": "stdout"
        }
      ]
    },
    {
      "cell_type": "code",
      "metadata": {
        "id": "9cpDcT7k_Old",
        "colab_type": "code",
        "colab": {
          "base_uri": "https://localhost:8080/",
          "height": 401
        },
        "outputId": "516c41d6-7168-4701-fc2c-35e2c53db9aa"
      },
      "source": [
        "print(S_new)"
      ],
      "execution_count": 10,
      "outputs": [
        {
          "output_type": "stream",
          "text": [
            "[[[ 0. 21.  2. 23.  4.]\n",
            "  [ 0.  1.  2.  3.  4.]\n",
            "  [ 5.  6.  7.  8.  9.]\n",
            "  [10. 11. 12. 13. 14.]\n",
            "  [15. 16. 17. 18. 19.]]\n",
            "\n",
            " [[ 5. 21.  7. 23.  9.]\n",
            "  [10. 11. 12. 13. 14.]\n",
            "  [15. 16. 17. 18. 19.]\n",
            "  [20. 21. 22. 23. 24.]\n",
            "  [20. 21. 22. 23. 24.]]\n",
            "\n",
            " [[ 4. 21. 14. 23. 24.]\n",
            "  [ 4.  9. 14. 19. 24.]\n",
            "  [ 4.  9. 14. 19. 24.]\n",
            "  [ 4.  9. 14. 19. 24.]\n",
            "  [ 4.  9. 14. 19. 24.]]\n",
            "\n",
            " [[ 0. 21. 10. 23. 20.]\n",
            "  [ 4.  5.  6.  7.  8.]\n",
            "  [ 9. 10. 11. 12. 13.]\n",
            "  [14. 15. 16. 17. 18.]\n",
            "  [19. 20. 21. 22. 23.]]]\n"
          ],
          "name": "stdout"
        }
      ]
    },
    {
      "cell_type": "code",
      "metadata": {
        "id": "b5tQyYWDBZIi",
        "colab_type": "code",
        "colab": {
          "base_uri": "https://localhost:8080/",
          "height": 401
        },
        "outputId": "f781bb35-8de2-4e69-e751-81249c864b6d"
      },
      "source": [
        "print(R)"
      ],
      "execution_count": 11,
      "outputs": [
        {
          "output_type": "stream",
          "text": [
            "[[[-1. 10. -1.  5. -1.]\n",
            "  [ 0.  0.  0.  0.  0.]\n",
            "  [ 0.  0.  0.  0.  0.]\n",
            "  [ 0.  0.  0.  0.  0.]\n",
            "  [ 0.  0.  0.  0.  0.]]\n",
            "\n",
            " [[ 0. 10.  0.  5.  0.]\n",
            "  [ 0.  0.  0.  0.  0.]\n",
            "  [ 0.  0.  0.  0.  0.]\n",
            "  [ 0.  0.  0.  0.  0.]\n",
            "  [-1. -1. -1. -1. -1.]]\n",
            "\n",
            " [[ 0. 10.  0.  5. -1.]\n",
            "  [ 0.  0.  0.  0. -1.]\n",
            "  [ 0.  0.  0.  0. -1.]\n",
            "  [ 0.  0.  0.  0. -1.]\n",
            "  [ 0.  0.  0.  0. -1.]]\n",
            "\n",
            " [[-1. 10.  0.  5.  0.]\n",
            "  [-1.  0.  0.  0.  0.]\n",
            "  [-1.  0.  0.  0.  0.]\n",
            "  [-1.  0.  0.  0.  0.]\n",
            "  [-1.  0.  0.  0.  0.]]]\n"
          ],
          "name": "stdout"
        }
      ]
    },
    {
      "cell_type": "code",
      "metadata": {
        "id": "fRXrXdkuBzRN",
        "colab_type": "code",
        "colab": {}
      },
      "source": [
        ""
      ],
      "execution_count": 0,
      "outputs": []
    }
  ]
}